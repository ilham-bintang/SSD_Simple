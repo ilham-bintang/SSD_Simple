{
  "nbformat": 4,
  "nbformat_minor": 0,
  "metadata": {
    "colab": {
      "name": "SSD_Simple.ipynb",
      "provenance": [],
      "collapsed_sections": [],
      "authorship_tag": "ABX9TyPq+xCW5OKb38pIUw3kx9PX",
      "include_colab_link": true
    },
    "kernelspec": {
      "name": "python3",
      "display_name": "Python 3"
    },
    "accelerator": "GPU"
  },
  "cells": [
    {
      "cell_type": "markdown",
      "metadata": {
        "id": "view-in-github",
        "colab_type": "text"
      },
      "source": [
        "<a href=\"https://colab.research.google.com/github/ilham-bintang/SSD_Simple/blob/main/SSD_Simple.ipynb\" target=\"_parent\"><img src=\"https://colab.research.google.com/assets/colab-badge.svg\" alt=\"Open In Colab\"/></a>"
      ]
    },
    {
      "cell_type": "code",
      "metadata": {
        "colab": {
          "base_uri": "https://localhost:8080/"
        },
        "id": "f7TuQnyoocHC",
        "outputId": "b4a9deed-1b12-44de-d91e-34262809e15f"
      },
      "source": [
        "!pip install matplotlib opencv-python"
      ],
      "execution_count": 2,
      "outputs": [
        {
          "output_type": "stream",
          "text": [
            "Requirement already satisfied: matplotlib in /usr/local/lib/python3.6/dist-packages (3.2.2)\n",
            "Requirement already satisfied: opencv-python in /usr/local/lib/python3.6/dist-packages (4.1.2.30)\n",
            "Requirement already satisfied: numpy>=1.11 in /usr/local/lib/python3.6/dist-packages (from matplotlib) (1.18.5)\n",
            "Requirement already satisfied: cycler>=0.10 in /usr/local/lib/python3.6/dist-packages (from matplotlib) (0.10.0)\n",
            "Requirement already satisfied: pyparsing!=2.0.4,!=2.1.2,!=2.1.6,>=2.0.1 in /usr/local/lib/python3.6/dist-packages (from matplotlib) (2.4.7)\n",
            "Requirement already satisfied: kiwisolver>=1.0.1 in /usr/local/lib/python3.6/dist-packages (from matplotlib) (1.3.1)\n",
            "Requirement already satisfied: python-dateutil>=2.1 in /usr/local/lib/python3.6/dist-packages (from matplotlib) (2.8.1)\n",
            "Requirement already satisfied: six in /usr/local/lib/python3.6/dist-packages (from cycler>=0.10->matplotlib) (1.15.0)\n"
          ],
          "name": "stdout"
        }
      ]
    },
    {
      "cell_type": "code",
      "metadata": {
        "colab": {
          "base_uri": "https://localhost:8080/"
        },
        "id": "UEJQcdbyreRP",
        "outputId": "09a5b027-24c9-4c6a-a7eb-17f851556e06"
      },
      "source": [
        "!unzip images.zip"
      ],
      "execution_count": 21,
      "outputs": [
        {
          "output_type": "stream",
          "text": [
            "Archive:  images.zip\n",
            "   creating: images/\n",
            "   creating: images/test/\n",
            "  inflating: images/test/2.jpg       \n",
            "  inflating: images/test/3.png       \n",
            "  inflating: images/test/1.jpg       \n"
          ],
          "name": "stdout"
        }
      ]
    },
    {
      "cell_type": "code",
      "metadata": {
        "colab": {
          "base_uri": "https://localhost:8080/"
        },
        "id": "34nGNjoesfRc",
        "outputId": "e4b74e0d-0b86-4476-8ed3-c5a0a3fe0eea"
      },
      "source": [
        "!python -m pip install -U matplotlib"
      ],
      "execution_count": 3,
      "outputs": [
        {
          "output_type": "stream",
          "text": [
            "Collecting matplotlib\n",
            "\u001b[?25l  Downloading https://files.pythonhosted.org/packages/d2/43/2bd63467490036697e7be71444fafc7b236923d614d4521979a200c6b559/matplotlib-3.3.3-cp36-cp36m-manylinux1_x86_64.whl (11.6MB)\n",
            "\u001b[K     |████████████████████████████████| 11.6MB 6.4MB/s \n",
            "\u001b[?25hRequirement already satisfied, skipping upgrade: pyparsing!=2.0.4,!=2.1.2,!=2.1.6,>=2.0.3 in /usr/local/lib/python3.6/dist-packages (from matplotlib) (2.4.7)\n",
            "Requirement already satisfied, skipping upgrade: cycler>=0.10 in /usr/local/lib/python3.6/dist-packages (from matplotlib) (0.10.0)\n",
            "Requirement already satisfied, skipping upgrade: numpy>=1.15 in /usr/local/lib/python3.6/dist-packages (from matplotlib) (1.18.5)\n",
            "Requirement already satisfied, skipping upgrade: kiwisolver>=1.0.1 in /usr/local/lib/python3.6/dist-packages (from matplotlib) (1.3.1)\n",
            "Requirement already satisfied, skipping upgrade: python-dateutil>=2.1 in /usr/local/lib/python3.6/dist-packages (from matplotlib) (2.8.1)\n",
            "Requirement already satisfied, skipping upgrade: pillow>=6.2.0 in /usr/local/lib/python3.6/dist-packages (from matplotlib) (7.0.0)\n",
            "Requirement already satisfied, skipping upgrade: six in /usr/local/lib/python3.6/dist-packages (from cycler>=0.10->matplotlib) (1.15.0)\n",
            "\u001b[31mERROR: albumentations 0.1.12 has requirement imgaug<0.2.7,>=0.2.5, but you'll have imgaug 0.2.9 which is incompatible.\u001b[0m\n",
            "Installing collected packages: matplotlib\n",
            "  Found existing installation: matplotlib 3.2.2\n",
            "    Uninstalling matplotlib-3.2.2:\n",
            "      Successfully uninstalled matplotlib-3.2.2\n",
            "Successfully installed matplotlib-3.3.3\n"
          ],
          "name": "stdout"
        }
      ]
    },
    {
      "cell_type": "code",
      "metadata": {
        "id": "SCh4-rwJs7rj"
      },
      "source": [
        "!apt-get install tk-dev libpng-dev libffi-dev dvipng texlive-latex-base"
      ],
      "execution_count": null,
      "outputs": []
    },
    {
      "cell_type": "code",
      "metadata": {
        "id": "XS1VruS0qufJ"
      },
      "source": [
        "# %matplotlib inline\n",
        "import os\n",
        "import shutil\n",
        "from collections import OrderedDict\n",
        "\n",
        "import matplotlib\n",
        "# matplotlib.use('WebAgg')\n",
        "import matplotlib.pyplot as plt\n",
        "import cv2\n",
        "import numpy as np\n",
        "import torch\n",
        "from torch.autograd import Variable\n",
        "from scipy.ndimage.measurements import label\n",
        "\n",
        "\n",
        "\n",
        "from ssd import build_ssd\n",
        "from data import detection_collate, GTDBDetection, BaseTransform, GTDBAnnotationTransform\n",
        "import config\n",
        "from torch.utils.data import Dataset, DataLoader\n",
        "from utils import save_boxes, draw_box, _img_to_tensor, FixImgCoordinates, DrawAllBoxes, convert_to_binary, read_math, voting_equal, convert_to_binary, voting_algo"
      ],
      "execution_count": 14,
      "outputs": []
    },
    {
      "cell_type": "code",
      "metadata": {
        "id": "j99EzCiKqBpa"
      },
      "source": [
        "class ArgStub():\n",
        "\n",
        "    def __init__ (self):\n",
        "        self.cuda = False\n",
        "        self.kernel = (1, 5)\n",
        "        self.padding = (0, 2)\n",
        "        self.phase = 'test'\n",
        "        self.visual_threshold = 0.25\n",
        "        self.verbose = False\n",
        "        self.exp_name = 'SSD'\n",
        "        self.model_type = 512\n",
        "        self.use_char_info = False\n",
        "        self.limit = -1\n",
        "        self.cfg = 'hboxes512'\n",
        "        self.batch_size = 8\n",
        "        self.num_workers = 4\n",
        "        self.neg_mining = True\n",
        "        self.log_dir = 'logs'\n",
        "        self.stride = 0.1\n",
        "        self.window = 1200\n",
        "        self.test_data = \"testing_data\"\n",
        "        self.data_file = \"train_data\"\n",
        "        self.dataset_root = \".\"\n",
        "        self.save_folder = \"./eval\"\n",
        "        self.exp_name = \"testing\"\n",
        "        self.output_dir = \"./eval/stitched_real_world_iter1\"\n",
        "        self.math_dir = \"./eval/testing/\"\n",
        "        self.home_images = \"./images/\"\n",
        "        self.math_ext = \".csv\"\n",
        "        self.algo_threshold = 30"
      ],
      "execution_count": 15,
      "outputs": []
    },
    {
      "cell_type": "code",
      "metadata": {
        "id": "O37cgLsnqRzs"
      },
      "source": [
        "class MathDetector():\n",
        "\n",
        "    def __init__(self, weight_path, args):\n",
        "        self.args = args\n",
        "        net = build_ssd(args, 'test', config.exp_cfg[args.cfg], -1, args.model_type, 2)\n",
        "        self._net = net # nn.DataParallel(net)\n",
        "        weights = torch.load(weight_path, map_location = torch.device('cpu'))\n",
        "\n",
        "        new_weights = OrderedDict()\n",
        "        for k, v in weights.items():\n",
        "            name = k[7:] # remove `module.`\n",
        "            new_weights[name] = v\n",
        "\n",
        "        self._net.load_state_dict(new_weights)\n",
        "        self._net.eval()\n",
        "\n",
        "        self.dataset = GTDBDetection(args, self.args.test_data, split='test',\n",
        "                                transform=BaseTransform(self.args.model_type, (246, 246, 246)),\n",
        "                                target_transform=GTDBAnnotationTransform())\n",
        "\n",
        "        self.data_loader = DataLoader(self.dataset, self.args.batch_size,\n",
        "                                 num_workers=self.args.num_workers,\n",
        "                                 shuffle=False, collate_fn=detection_collate,\n",
        "                                 pin_memory=True)\n",
        "\n",
        "        self.boxes = []\n",
        "        self.scores = []\n",
        "\n",
        "\n",
        "    def Detect (self, thres, images):\n",
        "\n",
        "        done = 0\n",
        "\n",
        "        for batch_idx, (images, targets, metadata) in enumerate(self.data_loader):\n",
        "            done = done + len(images)\n",
        "\n",
        "            with torch.no_grad():\n",
        "                images = Variable(images)\n",
        "                targets = [Variable(ann) for ann in targets]\n",
        "\n",
        "            y, debug_boxes, debug_scores = self._net(images)  # forward pass\n",
        "            detections = y.data\n",
        "\n",
        "            k = 0\n",
        "            for img, meta in zip(images, metadata):\n",
        "\n",
        "                img_id = meta[0]\n",
        "                x_l = meta[1]\n",
        "                y_l = meta[2]\n",
        "\n",
        "                img = img.permute(1, 2, 0)\n",
        "                # scale each detection back up to the image\n",
        "                scale = torch.Tensor([img.shape[1], img.shape[0],\n",
        "                                      img.shape[1], img.shape[0]])\n",
        "\n",
        "                recognized_boxes = []\n",
        "                recognized_scores = []\n",
        "\n",
        "                # [1,2,200,5]\n",
        "                # we only care about math class\n",
        "                # hence select detections[image_id, class, detection_id, detection_score]\n",
        "                # class=1 for math\n",
        "                i = 1\n",
        "                j = 0\n",
        "\n",
        "                while j < detections.size(2) and detections[k, i, j, 0] >= thres:  # TODO it was 0.6\n",
        "\n",
        "                    score = detections[k, i, j, 0]\n",
        "                    pt = (detections[k, i, j, 1:] * self.args.window).cpu().numpy()\n",
        "                    coords = (pt[0] + x_l, pt[1] + y_l, pt[2] + x_l, pt[3] + y_l)\n",
        "                    # coords = (pt[0], pt[1], pt[2], pt[3])\n",
        "                    recognized_boxes.append(coords)\n",
        "                    recognized_scores.append(score.cpu().numpy())\n",
        "\n",
        "                    j += 1\n",
        "                    print(j)\n",
        "\n",
        "                save_boxes(self.args, recognized_boxes, recognized_scores, img_id)\n",
        "        self.boxes = recognized_boxes\n",
        "        self.scores = recognized_scores\n",
        "\n",
        "\n",
        "    def DetectAny (self, thres, image):\n",
        "        t = _img_to_tensor(image).unsqueeze(0)\n",
        "        # fix box coordinates to image pixel coordinates\n",
        "        self.Detect(thres, t)\n",
        "        # coor_boxes = FixImgCoordinates(image, self.boxes)\n",
        "        # new_boxes = self.Voting(t, coor_boxes)\n",
        "        # self.boxes = coor_boxes\n",
        "\n",
        "        return self.boxes, self.scores\n",
        "\n",
        "    def Voting(self):\n",
        "\n",
        "        pdf_list = []\n",
        "        pdf_names_file = open(self.args.data_file, 'r')\n",
        "\n",
        "        if os.path.exists(self.args.output_dir):\n",
        "            shutil.rmtree(self.args.output_dir)\n",
        "\n",
        "        for pdf_name in pdf_names_file:\n",
        "            pdf_name = pdf_name.strip()\n",
        "\n",
        "            if pdf_name != '':\n",
        "                pdf_list.append(pdf_name)\n",
        "\n",
        "        math_regions = {}\n",
        "\n",
        "        for pdf_name in pdf_list:\n",
        "            math_regions[pdf_name] = read_math(self.args, pdf_name)\n",
        "\n",
        "        voting_ip_list = []\n",
        "        for pdf_name in pdf_list:\n",
        "\n",
        "            pages = np.unique(math_regions[pdf_name][:, 0])\n",
        "\n",
        "            #args, math_regions, pdf_name, page_num\n",
        "            for page_num in pages:\n",
        "                current_math = math_regions[pdf_name][math_regions[pdf_name][:,0] == page_num]\n",
        "                voting_ip_list.append([self.args, np.delete(current_math, 0, 1), pdf_name, page_num])\n",
        "\n",
        "        # pool = Pool(processes=args.num_workers)\n",
        "        out = [voting_algo(ip) for ip in voting_ip_list]\n",
        "\n",
        "        for ip, final_math in zip(voting_ip_list, out):\n",
        "\n",
        "            try:\n",
        "                pdf_name = ip[2]\n",
        "                page_num = ip[3]\n",
        "\n",
        "                if len(final_math) == 0:\n",
        "                    continue\n",
        "\n",
        "                col = np.array([int(page_num)] * len(final_math))\n",
        "                final_math = np.concatenate((col[:, np.newaxis], final_math), axis=1)\n",
        "\n",
        "                math_file_path = os.path.join(self.args.output_dir, pdf_name + '.csv')\n",
        "\n",
        "                if not os.path.exists(os.path.dirname(math_file_path)):\n",
        "                    os.makedirs(os.path.dirname(math_file_path))\n",
        "\n",
        "                math_file = open(math_file_path, 'a')\n",
        "\n",
        "                np.savetxt(math_file, final_math, fmt='%.2f', delimiter=',')\n",
        "                math_file.close()\n",
        "            except Exception as e:\n",
        "                print(\"Exception while processing \", pdf_name, \" \", page_num, \" \", sys.exc_info(), e)"
      ],
      "execution_count": 16,
      "outputs": []
    },
    {
      "cell_type": "code",
      "metadata": {
        "id": "gUbc8eO-qg0w"
      },
      "source": [
        "md = MathDetector('AMATH512_e1GTDB.pth', ArgStub())\n",
        "a = cv2.imread('images/test/2.jpg', cv2.IMREAD_COLOR)"
      ],
      "execution_count": 17,
      "outputs": []
    },
    {
      "cell_type": "code",
      "metadata": {
        "colab": {
          "base_uri": "https://localhost:8080/"
        },
        "id": "F391aQjwqpXC",
        "outputId": "84a93326-0c3c-4b6d-d89c-7d1d4a1f8333"
      },
      "source": [
        "b, s = md.DetectAny(0.2, a)"
      ],
      "execution_count": 18,
      "outputs": [
        {
          "output_type": "stream",
          "text": [
            "1\n",
            "2\n",
            "3\n",
            "4\n",
            "5\n",
            "6\n",
            "7\n",
            "8\n",
            "9\n",
            "10\n",
            "11\n",
            "12\n",
            "13\n",
            "14\n",
            "1\n",
            "2\n",
            "3\n",
            "4\n",
            "5\n",
            "6\n",
            "7\n",
            "8\n",
            "9\n",
            "10\n",
            "11\n",
            "12\n",
            "13\n",
            "14\n",
            "1\n",
            "2\n",
            "3\n",
            "4\n",
            "5\n",
            "6\n",
            "7\n",
            "8\n",
            "9\n",
            "10\n",
            "11\n",
            "12\n",
            "13\n",
            "14\n",
            "1\n",
            "2\n",
            "3\n",
            "4\n",
            "5\n",
            "6\n",
            "7\n",
            "8\n",
            "9\n",
            "10\n",
            "11\n",
            "12\n",
            "13\n",
            "14\n",
            "1\n",
            "2\n",
            "3\n",
            "4\n",
            "5\n",
            "6\n",
            "7\n",
            "8\n",
            "9\n",
            "10\n",
            "11\n",
            "12\n",
            "13\n",
            "14\n",
            "1\n",
            "2\n",
            "3\n",
            "4\n",
            "5\n",
            "6\n",
            "7\n",
            "8\n",
            "9\n",
            "10\n",
            "11\n",
            "12\n",
            "13\n",
            "14\n",
            "1\n",
            "2\n",
            "3\n",
            "4\n",
            "5\n",
            "6\n",
            "7\n",
            "8\n",
            "9\n",
            "10\n",
            "11\n",
            "12\n",
            "13\n",
            "14\n",
            "1\n",
            "2\n",
            "3\n",
            "4\n",
            "5\n",
            "6\n",
            "7\n",
            "8\n",
            "9\n",
            "10\n",
            "11\n",
            "12\n",
            "13\n",
            "14\n"
          ],
          "name": "stdout"
        }
      ]
    },
    {
      "cell_type": "code",
      "metadata": {
        "colab": {
          "base_uri": "https://localhost:8080/",
          "height": 324
        },
        "id": "XkwE6pANwR68",
        "outputId": "0a0cbc8a-f6c3-4460-c499-718e44400226"
      },
      "source": [
        "md.Voting()"
      ],
      "execution_count": 13,
      "outputs": [
        {
          "output_type": "stream",
          "text": [
            "Processing  test  >  0\n"
          ],
          "name": "stdout"
        },
        {
          "output_type": "error",
          "ename": "NameError",
          "evalue": "ignored",
          "traceback": [
            "\u001b[0;31m---------------------------------------------------------------------------\u001b[0m",
            "\u001b[0;31mNameError\u001b[0m                                 Traceback (most recent call last)",
            "\u001b[0;32m<ipython-input-13-067a15928e0c>\u001b[0m in \u001b[0;36m<module>\u001b[0;34m()\u001b[0m\n\u001b[0;32m----> 1\u001b[0;31m \u001b[0mmd\u001b[0m\u001b[0;34m.\u001b[0m\u001b[0mVoting\u001b[0m\u001b[0;34m(\u001b[0m\u001b[0;34m)\u001b[0m\u001b[0;34m\u001b[0m\u001b[0;34m\u001b[0m\u001b[0m\n\u001b[0m",
            "\u001b[0;32m<ipython-input-10-d4e0731e1a10>\u001b[0m in \u001b[0;36mVoting\u001b[0;34m(self)\u001b[0m\n\u001b[1;32m    121\u001b[0m \u001b[0;34m\u001b[0m\u001b[0m\n\u001b[1;32m    122\u001b[0m         \u001b[0;31m# pool = Pool(processes=args.num_workers)\u001b[0m\u001b[0;34m\u001b[0m\u001b[0;34m\u001b[0m\u001b[0;34m\u001b[0m\u001b[0m\n\u001b[0;32m--> 123\u001b[0;31m         \u001b[0mout\u001b[0m \u001b[0;34m=\u001b[0m \u001b[0;34m[\u001b[0m\u001b[0mvoting_algo\u001b[0m\u001b[0;34m(\u001b[0m\u001b[0mip\u001b[0m\u001b[0;34m)\u001b[0m \u001b[0;32mfor\u001b[0m \u001b[0mip\u001b[0m \u001b[0;32min\u001b[0m \u001b[0mvoting_ip_list\u001b[0m\u001b[0;34m]\u001b[0m\u001b[0;34m\u001b[0m\u001b[0;34m\u001b[0m\u001b[0m\n\u001b[0m\u001b[1;32m    124\u001b[0m \u001b[0;34m\u001b[0m\u001b[0m\n\u001b[1;32m    125\u001b[0m         \u001b[0;32mfor\u001b[0m \u001b[0mip\u001b[0m\u001b[0;34m,\u001b[0m \u001b[0mfinal_math\u001b[0m \u001b[0;32min\u001b[0m \u001b[0mzip\u001b[0m\u001b[0;34m(\u001b[0m\u001b[0mvoting_ip_list\u001b[0m\u001b[0;34m,\u001b[0m \u001b[0mout\u001b[0m\u001b[0;34m)\u001b[0m\u001b[0;34m:\u001b[0m\u001b[0;34m\u001b[0m\u001b[0;34m\u001b[0m\u001b[0m\n",
            "\u001b[0;32m<ipython-input-10-d4e0731e1a10>\u001b[0m in \u001b[0;36m<listcomp>\u001b[0;34m(.0)\u001b[0m\n\u001b[1;32m    121\u001b[0m \u001b[0;34m\u001b[0m\u001b[0m\n\u001b[1;32m    122\u001b[0m         \u001b[0;31m# pool = Pool(processes=args.num_workers)\u001b[0m\u001b[0;34m\u001b[0m\u001b[0;34m\u001b[0m\u001b[0;34m\u001b[0m\u001b[0m\n\u001b[0;32m--> 123\u001b[0;31m         \u001b[0mout\u001b[0m \u001b[0;34m=\u001b[0m \u001b[0;34m[\u001b[0m\u001b[0mvoting_algo\u001b[0m\u001b[0;34m(\u001b[0m\u001b[0mip\u001b[0m\u001b[0;34m)\u001b[0m \u001b[0;32mfor\u001b[0m \u001b[0mip\u001b[0m \u001b[0;32min\u001b[0m \u001b[0mvoting_ip_list\u001b[0m\u001b[0;34m]\u001b[0m\u001b[0;34m\u001b[0m\u001b[0;34m\u001b[0m\u001b[0m\n\u001b[0m\u001b[1;32m    124\u001b[0m \u001b[0;34m\u001b[0m\u001b[0m\n\u001b[1;32m    125\u001b[0m         \u001b[0;32mfor\u001b[0m \u001b[0mip\u001b[0m\u001b[0;34m,\u001b[0m \u001b[0mfinal_math\u001b[0m \u001b[0;32min\u001b[0m \u001b[0mzip\u001b[0m\u001b[0;34m(\u001b[0m\u001b[0mvoting_ip_list\u001b[0m\u001b[0;34m,\u001b[0m \u001b[0mout\u001b[0m\u001b[0;34m)\u001b[0m\u001b[0;34m:\u001b[0m\u001b[0;34m\u001b[0m\u001b[0;34m\u001b[0m\u001b[0m\n",
            "\u001b[0;32m/content/utils.py\u001b[0m in \u001b[0;36mvoting_algo\u001b[0;34m(params)\u001b[0m\n\u001b[1;32m    169\u001b[0m     \u001b[0mvotes\u001b[0m\u001b[0;34m[\u001b[0m\u001b[0mvotes\u001b[0m \u001b[0;34m>=\u001b[0m \u001b[0mthresh_votes\u001b[0m\u001b[0;34m]\u001b[0m \u001b[0;34m=\u001b[0m \u001b[0;36m1\u001b[0m\u001b[0;34m\u001b[0m\u001b[0;34m\u001b[0m\u001b[0m\n\u001b[1;32m    170\u001b[0m \u001b[0;34m\u001b[0m\u001b[0m\n\u001b[0;32m--> 171\u001b[0;31m     \u001b[0;31m# im_bw = convert_to_binary(image)\u001b[0m\u001b[0;34m\u001b[0m\u001b[0;34m\u001b[0m\u001b[0;34m\u001b[0m\u001b[0m\n\u001b[0m\u001b[1;32m    172\u001b[0m     \u001b[0mstructure\u001b[0m \u001b[0;34m=\u001b[0m \u001b[0mnp\u001b[0m\u001b[0;34m.\u001b[0m\u001b[0mones\u001b[0m\u001b[0;34m(\u001b[0m\u001b[0;34m(\u001b[0m\u001b[0;36m3\u001b[0m\u001b[0;34m,\u001b[0m \u001b[0;36m3\u001b[0m\u001b[0;34m)\u001b[0m\u001b[0;34m,\u001b[0m \u001b[0mdtype\u001b[0m\u001b[0;34m=\u001b[0m\u001b[0mnp\u001b[0m\u001b[0;34m.\u001b[0m\u001b[0mint\u001b[0m\u001b[0;34m)\u001b[0m\u001b[0;34m\u001b[0m\u001b[0;34m\u001b[0m\u001b[0m\n\u001b[1;32m    173\u001b[0m     \u001b[0mlabeled\u001b[0m\u001b[0;34m,\u001b[0m \u001b[0mncomponents\u001b[0m \u001b[0;34m=\u001b[0m \u001b[0mlabel\u001b[0m\u001b[0;34m(\u001b[0m\u001b[0mvotes\u001b[0m\u001b[0;34m,\u001b[0m \u001b[0mstructure\u001b[0m\u001b[0;34m)\u001b[0m\u001b[0;34m\u001b[0m\u001b[0;34m\u001b[0m\u001b[0m\n",
            "\u001b[0;31mNameError\u001b[0m: name 'label' is not defined"
          ]
        }
      ]
    },
    {
      "cell_type": "code",
      "metadata": {
        "id": "JTC0yS--2K7H"
      },
      "source": [
        ""
      ],
      "execution_count": null,
      "outputs": []
    }
  ]
}